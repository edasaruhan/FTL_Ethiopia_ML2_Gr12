{
 "cells": [
  {
   "cell_type": "code",
   "execution_count": 34,
   "id": "20b22449",
   "metadata": {},
   "outputs": [],
   "source": [
    "import pandas as pd\n",
    "import numpy as np\n",
    "import seaborn as sns\n",
    "import matplotlib.pyplot as plt\n",
    "from sklearn.model_selection import train_test_split\n",
    "from sklearn.preprocessing import StandardScaler, LabelEncoder\n",
    "from sklearn.ensemble import RandomForestClassifier\n",
    "from sklearn.metrics import accuracy_score, classification_report, confusion_matrix\n",
    "\n",
    "# Add these at the top of script\n",
    "from sklearn.linear_model import LogisticRegression\n",
    "from sklearn.tree import DecisionTreeClassifier\n",
    "from sklearn.ensemble import RandomForestClassifier\n",
    "from xgboost import XGBClassifier\n",
    "from sklearn.metrics import ConfusionMatrixDisplay\n",
    "from sklearn.metrics import accuracy_score"
   ]
  },
  {
   "cell_type": "code",
   "execution_count": 7,
   "id": "ea11b405",
   "metadata": {},
   "outputs": [],
   "source": [
    "# 1. Load the dataset (adjust the path if necessary)\n",
    "file_path=\"HDR23-24_Statistical_Annex_HDI_Table.xlsx\"\n",
    "df = pd.read_excel(file_path)"
   ]
  },
  {
   "cell_type": "code",
   "execution_count": 8,
   "id": "c1876806",
   "metadata": {},
   "outputs": [
    {
     "data": {
      "text/plain": [
       "(   HDI rank                      Country  Value  Unnamed: 3   (years)  \\\n",
       " 0       NaN                          NaN   2022         NaN  2022.000   \n",
       " 1       NaN  VERY HIGH HUMAN DEVELOPMENT    NaN         NaN       NaN   \n",
       " 2       1.0                  Switzerland  0.967         NaN    84.255   \n",
       " 3       2.0                       Norway  0.966         NaN    83.393   \n",
       " 4       3.0                      Iceland  0.959         NaN    82.815   \n",
       " \n",
       "   Unnamed: 5  (years).1 Unnamed: 7  (years).2 Unnamed: 9 (2017 PPP $)  \\\n",
       " 0        NaN       2022          a       2022          a         2022   \n",
       " 1        NaN        NaN        NaN        NaN        NaN          NaN   \n",
       " 2        NaN  16.583731        NaN  13.904066          c  69432.78669   \n",
       " 3        NaN   18.63846          d  13.062343          c  69189.76165   \n",
       " 4        NaN   19.10673          d   13.76717        NaN  54688.37921   \n",
       " \n",
       "   Unnamed: 11 Unnamed: 12 Unnamed: 13 Unnamed: 14  \n",
       " 0         NaN        2022           b        2021  \n",
       " 1         NaN         NaN         NaN         NaN  \n",
       " 2         NaN           6         NaN           1  \n",
       " 3         NaN           6         NaN           2  \n",
       " 4         NaN          16         NaN           4  ,\n",
       " Index(['HDI rank', 'Country', 'Value', 'Unnamed: 3', '(years)', 'Unnamed: 5',\n",
       "        '(years).1', 'Unnamed: 7', '(years).2', 'Unnamed: 9', '(2017 PPP $)',\n",
       "        'Unnamed: 11', 'Unnamed: 12', 'Unnamed: 13', 'Unnamed: 14'],\n",
       "       dtype='object'))"
      ]
     },
     "execution_count": 8,
     "metadata": {},
     "output_type": "execute_result"
    }
   ],
   "source": [
    "# 2. Inspect the dataset to understand its structure\n",
    "# print(df.head())\n",
    "# print(df.columns)\n",
    "\n",
    "df_clean = pd.read_excel(file_path, skiprows=5)\n",
    "\n",
    "df_clean.head(), df_clean.columns"
   ]
  },
  {
   "cell_type": "code",
   "execution_count": 10,
   "id": "2985a8e8",
   "metadata": {},
   "outputs": [
    {
     "data": {
      "text/html": [
       "<div>\n",
       "<style scoped>\n",
       "    .dataframe tbody tr th:only-of-type {\n",
       "        vertical-align: middle;\n",
       "    }\n",
       "\n",
       "    .dataframe tbody tr th {\n",
       "        vertical-align: top;\n",
       "    }\n",
       "\n",
       "    .dataframe thead th {\n",
       "        text-align: right;\n",
       "    }\n",
       "</style>\n",
       "<table border=\"1\" class=\"dataframe\">\n",
       "  <thead>\n",
       "    <tr style=\"text-align: right;\">\n",
       "      <th></th>\n",
       "      <th>Country</th>\n",
       "      <th>HDI</th>\n",
       "      <th>Life_Expectancy</th>\n",
       "      <th>Expected_Schooling</th>\n",
       "      <th>Mean_Schooling</th>\n",
       "      <th>GNI_per_Capita</th>\n",
       "      <th>Vulnerability_Level</th>\n",
       "    </tr>\n",
       "  </thead>\n",
       "  <tbody>\n",
       "    <tr>\n",
       "      <th>2</th>\n",
       "      <td>Switzerland</td>\n",
       "      <td>0.967</td>\n",
       "      <td>84.255</td>\n",
       "      <td>16.583731</td>\n",
       "      <td>13.904066</td>\n",
       "      <td>69432.78669</td>\n",
       "      <td>Low</td>\n",
       "    </tr>\n",
       "    <tr>\n",
       "      <th>3</th>\n",
       "      <td>Norway</td>\n",
       "      <td>0.966</td>\n",
       "      <td>83.393</td>\n",
       "      <td>18.63846</td>\n",
       "      <td>13.062343</td>\n",
       "      <td>69189.76165</td>\n",
       "      <td>Low</td>\n",
       "    </tr>\n",
       "    <tr>\n",
       "      <th>4</th>\n",
       "      <td>Iceland</td>\n",
       "      <td>0.959</td>\n",
       "      <td>82.815</td>\n",
       "      <td>19.10673</td>\n",
       "      <td>13.76717</td>\n",
       "      <td>54688.37921</td>\n",
       "      <td>Low</td>\n",
       "    </tr>\n",
       "    <tr>\n",
       "      <th>5</th>\n",
       "      <td>Hong Kong, China (SAR)</td>\n",
       "      <td>0.956</td>\n",
       "      <td>84.315</td>\n",
       "      <td>17.84959</td>\n",
       "      <td>12.34777</td>\n",
       "      <td>62485.50516</td>\n",
       "      <td>Low</td>\n",
       "    </tr>\n",
       "    <tr>\n",
       "      <th>6</th>\n",
       "      <td>Denmark</td>\n",
       "      <td>0.952</td>\n",
       "      <td>81.882</td>\n",
       "      <td>18.774031</td>\n",
       "      <td>12.96049</td>\n",
       "      <td>62018.95694</td>\n",
       "      <td>Low</td>\n",
       "    </tr>\n",
       "  </tbody>\n",
       "</table>\n",
       "</div>"
      ],
      "text/plain": [
       "                  Country    HDI  Life_Expectancy Expected_Schooling  \\\n",
       "2             Switzerland  0.967           84.255          16.583731   \n",
       "3                  Norway  0.966           83.393           18.63846   \n",
       "4                 Iceland  0.959           82.815           19.10673   \n",
       "5  Hong Kong, China (SAR)  0.956           84.315           17.84959   \n",
       "6                 Denmark  0.952           81.882          18.774031   \n",
       "\n",
       "  Mean_Schooling GNI_per_Capita Vulnerability_Level  \n",
       "2      13.904066    69432.78669                 Low  \n",
       "3      13.062343    69189.76165                 Low  \n",
       "4       13.76717    54688.37921                 Low  \n",
       "5       12.34777    62485.50516                 Low  \n",
       "6       12.96049    62018.95694                 Low  "
      ]
     },
     "execution_count": 10,
     "metadata": {},
     "output_type": "execute_result"
    }
   ],
   "source": [
    "# Select and rename key columns\n",
    "df_selected = df_clean[['Country', 'Value', '(years)', '(years).1', '(years).2', '(2017 PPP $)']].copy()\n",
    "df_selected.columns = ['Country', 'HDI', 'Life_Expectancy', 'Expected_Schooling', 'Mean_Schooling', 'GNI_per_Capita']\n",
    "\n",
    "# Drop rows with missing values in any of the selected columns\n",
    "df_selected.dropna(inplace=True)\n",
    "\n",
    "# Convert HDI to numeric, coercing errors to NaN\n",
    "df_selected['HDI'] = pd.to_numeric(df_selected['HDI'], errors='coerce')\n",
    "\n",
    "# Drop rows with NaN values after conversion\n",
    "df_selected.dropna(subset=['HDI'], inplace=True)\n",
    "\n",
    "# Create a new column for vulnerability level based on HDI\n",
    "def classify_vulnerability(hdi):\n",
    "    if hdi < 0.55:\n",
    "        return 'High'\n",
    "    elif hdi < 0.70:\n",
    "        return 'Medium'\n",
    "    else:\n",
    "        return 'Low'\n",
    "\n",
    "df_selected['Vulnerability_Level'] = df_selected['HDI'].apply(classify_vulnerability)\n",
    "\n",
    "# Preview the cleaned dataset\n",
    "df_selected.head()\n"
   ]
  },
  {
   "cell_type": "code",
   "execution_count": 11,
   "id": "cd47750e",
   "metadata": {},
   "outputs": [
    {
     "data": {
      "text/html": [
       "<div>\n",
       "<style scoped>\n",
       "    .dataframe tbody tr th:only-of-type {\n",
       "        vertical-align: middle;\n",
       "    }\n",
       "\n",
       "    .dataframe tbody tr th {\n",
       "        vertical-align: top;\n",
       "    }\n",
       "\n",
       "    .dataframe thead th {\n",
       "        text-align: right;\n",
       "    }\n",
       "</style>\n",
       "<table border=\"1\" class=\"dataframe\">\n",
       "  <thead>\n",
       "    <tr style=\"text-align: right;\">\n",
       "      <th></th>\n",
       "      <th>Country</th>\n",
       "      <th>HDI</th>\n",
       "      <th>Life_Expectancy</th>\n",
       "      <th>Expected_Schooling</th>\n",
       "      <th>Mean_Schooling</th>\n",
       "      <th>GNI_per_Capita</th>\n",
       "      <th>Vulnerability_Level</th>\n",
       "    </tr>\n",
       "  </thead>\n",
       "  <tbody>\n",
       "    <tr>\n",
       "      <th>216</th>\n",
       "      <td>Sub-Saharan Africa</td>\n",
       "      <td>0.549</td>\n",
       "      <td>60.639700</td>\n",
       "      <td>10.318008</td>\n",
       "      <td>5.975957</td>\n",
       "      <td>3666.202926</td>\n",
       "      <td>High</td>\n",
       "    </tr>\n",
       "    <tr>\n",
       "      <th>218</th>\n",
       "      <td>Least developed countries</td>\n",
       "      <td>0.542</td>\n",
       "      <td>64.922579</td>\n",
       "      <td>10.07708</td>\n",
       "      <td>5.04798</td>\n",
       "      <td>3005.704157</td>\n",
       "      <td>High</td>\n",
       "    </tr>\n",
       "    <tr>\n",
       "      <th>219</th>\n",
       "      <td>Small island developing states</td>\n",
       "      <td>0.730</td>\n",
       "      <td>71.577062</td>\n",
       "      <td>12.585566</td>\n",
       "      <td>8.62485</td>\n",
       "      <td>16379.351549</td>\n",
       "      <td>Low</td>\n",
       "    </tr>\n",
       "    <tr>\n",
       "      <th>221</th>\n",
       "      <td>Organisation for Economic Co-operation and Dev...</td>\n",
       "      <td>0.906</td>\n",
       "      <td>80.129907</td>\n",
       "      <td>16.59111</td>\n",
       "      <td>12.203173</td>\n",
       "      <td>46318.344964</td>\n",
       "      <td>Low</td>\n",
       "    </tr>\n",
       "    <tr>\n",
       "      <th>223</th>\n",
       "      <td>World</td>\n",
       "      <td>0.739</td>\n",
       "      <td>72.004070</td>\n",
       "      <td>12.989766</td>\n",
       "      <td>8.661598</td>\n",
       "      <td>17254.434037</td>\n",
       "      <td>Low</td>\n",
       "    </tr>\n",
       "  </tbody>\n",
       "</table>\n",
       "</div>"
      ],
      "text/plain": [
       "                                               Country    HDI  \\\n",
       "216                                 Sub-Saharan Africa  0.549   \n",
       "218                          Least developed countries  0.542   \n",
       "219                     Small island developing states  0.730   \n",
       "221  Organisation for Economic Co-operation and Dev...  0.906   \n",
       "223                                              World  0.739   \n",
       "\n",
       "     Life_Expectancy Expected_Schooling Mean_Schooling GNI_per_Capita  \\\n",
       "216        60.639700          10.318008       5.975957    3666.202926   \n",
       "218        64.922579           10.07708        5.04798    3005.704157   \n",
       "219        71.577062          12.585566        8.62485   16379.351549   \n",
       "221        80.129907           16.59111      12.203173   46318.344964   \n",
       "223        72.004070          12.989766       8.661598   17254.434037   \n",
       "\n",
       "    Vulnerability_Level  \n",
       "216                High  \n",
       "218                High  \n",
       "219                 Low  \n",
       "221                 Low  \n",
       "223                 Low  "
      ]
     },
     "execution_count": 11,
     "metadata": {},
     "output_type": "execute_result"
    }
   ],
   "source": [
    "df_selected.tail()"
   ]
  },
  {
   "cell_type": "code",
   "execution_count": 16,
   "id": "0b34ac6d",
   "metadata": {},
   "outputs": [
    {
     "data": {
      "text/html": [
       "<div>\n",
       "<style scoped>\n",
       "    .dataframe tbody tr th:only-of-type {\n",
       "        vertical-align: middle;\n",
       "    }\n",
       "\n",
       "    .dataframe tbody tr th {\n",
       "        vertical-align: top;\n",
       "    }\n",
       "\n",
       "    .dataframe thead th {\n",
       "        text-align: right;\n",
       "    }\n",
       "</style>\n",
       "<table border=\"1\" class=\"dataframe\">\n",
       "  <thead>\n",
       "    <tr style=\"text-align: right;\">\n",
       "      <th></th>\n",
       "      <th>Country</th>\n",
       "      <th>HDI</th>\n",
       "      <th>Life_Expectancy</th>\n",
       "      <th>Expected_Schooling</th>\n",
       "      <th>Mean_Schooling</th>\n",
       "      <th>GNI_per_Capita</th>\n",
       "      <th>Vulnerability_Level</th>\n",
       "    </tr>\n",
       "  </thead>\n",
       "  <tbody>\n",
       "    <tr>\n",
       "      <th>216</th>\n",
       "      <td>Sub-Saharan Africa</td>\n",
       "      <td>0.549</td>\n",
       "      <td>60.639700</td>\n",
       "      <td>10.318008</td>\n",
       "      <td>5.975957</td>\n",
       "      <td>3666.202926</td>\n",
       "      <td>High</td>\n",
       "    </tr>\n",
       "    <tr>\n",
       "      <th>218</th>\n",
       "      <td>Least developed countries</td>\n",
       "      <td>0.542</td>\n",
       "      <td>64.922579</td>\n",
       "      <td>10.077080</td>\n",
       "      <td>5.047980</td>\n",
       "      <td>3005.704157</td>\n",
       "      <td>High</td>\n",
       "    </tr>\n",
       "    <tr>\n",
       "      <th>219</th>\n",
       "      <td>Small island developing states</td>\n",
       "      <td>0.730</td>\n",
       "      <td>71.577062</td>\n",
       "      <td>12.585566</td>\n",
       "      <td>8.624850</td>\n",
       "      <td>16379.351549</td>\n",
       "      <td>Low</td>\n",
       "    </tr>\n",
       "    <tr>\n",
       "      <th>221</th>\n",
       "      <td>Organisation for Economic Co-operation and Dev...</td>\n",
       "      <td>0.906</td>\n",
       "      <td>80.129907</td>\n",
       "      <td>16.591110</td>\n",
       "      <td>12.203173</td>\n",
       "      <td>46318.344964</td>\n",
       "      <td>Low</td>\n",
       "    </tr>\n",
       "    <tr>\n",
       "      <th>223</th>\n",
       "      <td>World</td>\n",
       "      <td>0.739</td>\n",
       "      <td>72.004070</td>\n",
       "      <td>12.989766</td>\n",
       "      <td>8.661598</td>\n",
       "      <td>17254.434037</td>\n",
       "      <td>Low</td>\n",
       "    </tr>\n",
       "  </tbody>\n",
       "</table>\n",
       "</div>"
      ],
      "text/plain": [
       "                                               Country    HDI  \\\n",
       "216                                 Sub-Saharan Africa  0.549   \n",
       "218                          Least developed countries  0.542   \n",
       "219                     Small island developing states  0.730   \n",
       "221  Organisation for Economic Co-operation and Dev...  0.906   \n",
       "223                                              World  0.739   \n",
       "\n",
       "     Life_Expectancy  Expected_Schooling  Mean_Schooling  GNI_per_Capita  \\\n",
       "216        60.639700           10.318008        5.975957     3666.202926   \n",
       "218        64.922579           10.077080        5.047980     3005.704157   \n",
       "219        71.577062           12.585566        8.624850    16379.351549   \n",
       "221        80.129907           16.591110       12.203173    46318.344964   \n",
       "223        72.004070           12.989766        8.661598    17254.434037   \n",
       "\n",
       "    Vulnerability_Level  \n",
       "216                High  \n",
       "218                High  \n",
       "219                 Low  \n",
       "221                 Low  \n",
       "223                 Low  "
      ]
     },
     "execution_count": 16,
     "metadata": {},
     "output_type": "execute_result"
    }
   ],
   "source": [
    "# Convert relevant columns to numeric, forcing errors to NaN\n",
    "cols_to_convert = ['HDI', 'Life_Expectancy', 'Expected_Schooling', 'Mean_Schooling', 'GNI_per_Capita']\n",
    "df_selected[cols_to_convert] = df_selected[cols_to_convert].apply(pd.to_numeric, errors='coerce')\n",
    "\n",
    "# Drop any rows with NaN after conversion\n",
    "df_selected.dropna(inplace=True)\n",
    "\n",
    "# Apply vulnerability classification again\n",
    "df_selected['Vulnerability_Level'] = df_selected['HDI'].apply(classify_vulnerability)\n",
    "\n",
    "# Preview the cleaned and labeled dataset\n",
    "df_selected.tail()\n"
   ]
  },
  {
   "cell_type": "code",
   "execution_count": 17,
   "id": "9a14ec01",
   "metadata": {},
   "outputs": [],
   "source": [
    "# Set visual style\n",
    "sns.set(style=\"whitegrid\")\n"
   ]
  },
  {
   "cell_type": "code",
   "execution_count": 18,
   "id": "04838012",
   "metadata": {},
   "outputs": [],
   "source": [
    "# List of features to visualize\n",
    "features = ['HDI', 'Life_Expectancy', 'Expected_Schooling', 'Mean_Schooling', 'GNI_per_Capita']"
   ]
  },
  {
   "cell_type": "code",
   "execution_count": 19,
   "id": "3f3b2c34",
   "metadata": {},
   "outputs": [
    {
     "data": {
      "text/plain": [
       "<Figure size 1200x500 with 0 Axes>"
      ]
     },
     "metadata": {},
     "output_type": "display_data"
    },
    {
     "data": {
      "text/plain": [
       "<Figure size 1200x500 with 0 Axes>"
      ]
     },
     "metadata": {},
     "output_type": "display_data"
    },
    {
     "data": {
      "text/plain": [
       "<Figure size 1200x500 with 0 Axes>"
      ]
     },
     "metadata": {},
     "output_type": "display_data"
    },
    {
     "data": {
      "text/plain": [
       "<Figure size 1200x500 with 0 Axes>"
      ]
     },
     "metadata": {},
     "output_type": "display_data"
    },
    {
     "data": {
      "text/plain": [
       "<Figure size 1200x500 with 0 Axes>"
      ]
     },
     "metadata": {},
     "output_type": "display_data"
    }
   ],
   "source": [
    "# Plot histograms and boxplots\n",
    "for feature in features:\n",
    "    plt.figure(figsize=(12, 5))"
   ]
  },
  {
   "cell_type": "code",
   "execution_count": 21,
   "id": "74cc8c5e",
   "metadata": {},
   "outputs": [
    {
     "data": {
      "text/plain": [
       "Text(0.5, 1.0, 'Distribution of GNI_per_Capita')"
      ]
     },
     "execution_count": 21,
     "metadata": {},
     "output_type": "execute_result"
    },
    {
     "data": {
      "image/png": "[encoded data removed]",
      "text/plain": [
       "<Figure size 640x480 with 1 Axes>"
      ]
     },
     "metadata": {},
     "output_type": "display_data"
    }
   ],
   "source": [
    "# Histogram\n",
    "plt.subplot(1, 2, 1)\n",
    "sns.histplot(df_selected[feature], kde=True, bins=20)\n",
    "plt.title(f'Distribution of {feature}')"
   ]
  },
  {
   "cell_type": "code",
   "execution_count": 22,
   "id": "1bafaa54",
   "metadata": {},
   "outputs": [
    {
     "data": {
      "image/png": "[encoded data removed]",
      "text/plain": [
       "<Figure size 640x480 with 1 Axes>"
      ]
     },
     "metadata": {},
     "output_type": "display_data"
    }
   ],
   "source": [
    " #Boxplot by Vulnerability Level\n",
    "plt.subplot(1, 2, 2)\n",
    "sns.boxplot(data=df_selected, x='Vulnerability_Level', y=feature)\n",
    "plt.title(f'{feature} by Vulnerability Level')\n",
    "\n",
    "plt.tight_layout()\n",
    "plt.show()"
   ]
  },
  {
   "cell_type": "code",
   "execution_count": 23,
   "id": "a4b891ed",
   "metadata": {},
   "outputs": [],
   "source": [
    "# Load and preprocess (same as before)\n",
    "df = pd.read_excel(\"HDR23-24_Statistical_Annex_HDI_Table.xlsx\", skiprows=5)\n",
    "df = df[['Country', 'Value', '(years)', '(years).1', '(years).2', '(2017 PPP $)']]\n",
    "df.columns = ['Country', 'HDI', 'Life_Expectancy', 'Expected_Schooling', 'Mean_Schooling', 'GNI_per_Capita']\n",
    "df[['HDI', 'Life_Expectancy', 'Expected_Schooling', 'Mean_Schooling', 'GNI_per_Capita']] = \\\n",
    "    df[['HDI', 'Life_Expectancy', 'Expected_Schooling', 'Mean_Schooling', 'GNI_per_Capita']].apply(pd.to_numeric, errors='coerce')\n",
    "df.dropna(inplace=True)\n",
    "\n",
    "def classify_vulnerability(hdi):\n",
    "    if hdi < 0.55:\n",
    "        return 'High'\n",
    "    elif hdi < 0.70:\n",
    "        return 'Medium'\n",
    "    else:\n",
    "        return 'Low'\n",
    "\n",
    "df['Vulnerability_Level'] = df['HDI'].apply(classify_vulnerability)"
   ]
  },
  {
   "cell_type": "code",
   "execution_count": 24,
   "id": "01b4efa8",
   "metadata": {},
   "outputs": [],
   "source": [
    "# Encode target\n",
    "label_encoder = LabelEncoder()\n",
    "df['Vulnerability_Label'] = label_encoder.fit_transform(df['Vulnerability_Level'])\n",
    "\n",
    "# Feature matrix and target\n",
    "X = df[['Life_Expectancy', 'Expected_Schooling', 'Mean_Schooling', 'GNI_per_Capita']]\n",
    "y = df['Vulnerability_Label']\n"
   ]
  },
  {
   "cell_type": "code",
   "execution_count": 25,
   "id": "578619fc",
   "metadata": {},
   "outputs": [],
   "source": [
    "# Split and scale\n",
    "X_train, X_test, y_train, y_test = train_test_split(X, y, test_size=0.2, random_state=42)\n",
    "scaler = StandardScaler()\n",
    "X_train_scaled = scaler.fit_transform(X_train)\n",
    "X_test_scaled = scaler.transform(X_test)"
   ]
  },
  {
   "cell_type": "code",
   "execution_count": 28,
   "id": "564db554",
   "metadata": {},
   "outputs": [],
   "source": [
    "# Models to evaluate\n",
    "models = {\n",
    "    'Logistic Regression': LogisticRegression(max_iter=1000),\n",
    "    'Decision Tree': DecisionTreeClassifier(),\n",
    "    'Random Forest': RandomForestClassifier(n_estimators=100, random_state=42),\n",
    "    'XGBoost': XGBClassifier(use_label_encoder=False, eval_metric='mlogloss', random_state=42)\n",
    "}"
   ]
  },
  {
   "cell_type": "code",
   "execution_count": 29,
   "id": "d9279c97",
   "metadata": {},
   "outputs": [
    {
     "name": "stdout",
     "output_type": "stream",
     "text": [
      "\n",
      "Logistic Regression\n",
      "              precision    recall  f1-score   support\n",
      "\n",
      "        High       1.00      0.80      0.89        10\n",
      "         Low       0.91      1.00      0.95        21\n",
      "      Medium       0.82      0.82      0.82        11\n",
      "\n",
      "    accuracy                           0.90        42\n",
      "   macro avg       0.91      0.87      0.89        42\n",
      "weighted avg       0.91      0.90      0.90        42\n",
      "\n",
      "\n",
      "Decision Tree\n",
      "              precision    recall  f1-score   support\n",
      "\n",
      "        High       0.70      0.70      0.70        10\n",
      "         Low       0.91      0.95      0.93        21\n",
      "      Medium       0.60      0.55      0.57        11\n",
      "\n",
      "    accuracy                           0.79        42\n",
      "   macro avg       0.74      0.73      0.73        42\n",
      "weighted avg       0.78      0.79      0.78        42\n",
      "\n",
      "\n",
      "Random Forest\n",
      "              precision    recall  f1-score   support\n",
      "\n",
      "        High       1.00      0.80      0.89        10\n",
      "         Low       0.91      0.95      0.93        21\n",
      "      Medium       0.75      0.82      0.78        11\n",
      "\n",
      "    accuracy                           0.88        42\n",
      "   macro avg       0.89      0.86      0.87        42\n",
      "weighted avg       0.89      0.88      0.88        42\n",
      "\n",
      "\n",
      "XGBoost\n",
      "              precision    recall  f1-score   support\n",
      "\n",
      "        High       0.88      0.70      0.78        10\n",
      "         Low       0.91      0.95      0.93        21\n",
      "      Medium       0.67      0.73      0.70        11\n",
      "\n",
      "    accuracy                           0.83        42\n",
      "   macro avg       0.82      0.79      0.80        42\n",
      "weighted avg       0.84      0.83      0.83        42\n",
      "\n"
     ]
    },
    {
     "name": "stderr",
     "output_type": "stream",
     "text": [
      "C:\\Users\\UNIVERSAL\\anaconda3\\lib\\site-packages\\xgboost\\core.py:158: UserWarning: [22:09:25] WARNING: C:\\buildkite-agent\\builds\\buildkite-windows-cpu-autoscaling-group-i-08cbc0333d8d4aae1-1\\xgboost\\xgboost-ci-windows\\src\\learner.cc:740: \n",
      "Parameters: { \"use_label_encoder\" } are not used.\n",
      "\n",
      "  warnings.warn(smsg, UserWarning)\n"
     ]
    }
   ],
   "source": [
    "# Train and evaluate\n",
    "for name, model in models.items():\n",
    "    print(f\"\\n{name}\")\n",
    "    model.fit(X_train_scaled, y_train)\n",
    "    y_pred = model.predict(X_test_scaled)\n",
    "    \n",
    "    # Metrics\n",
    "    print(classification_report(y_test, y_pred, target_names=label_encoder.classes_))"
   ]
  },
  {
   "cell_type": "code",
   "execution_count": 33,
   "id": "e5d03b11",
   "metadata": {},
   "outputs": [
    {
     "data": {
      "image/png": "[encoded data removed]",
      "text/plain": [
       "<Figure size 640x480 with 2 Axes>"
      ]
     },
     "metadata": {},
     "output_type": "display_data"
    }
   ],
   "source": [
    "# Confusion Matrix\n",
    "cm = confusion_matrix(y_test, y_pred)\n",
    "disp = ConfusionMatrixDisplay(confusion_matrix=cm, display_labels=label_encoder.classes_)\n",
    "disp.plot(cmap=\"Blues\")\n",
    "plt.title(f\"{name} - Confusion Matrix\")\n",
    "plt.show()"
   ]
  },
  {
   "cell_type": "code",
   "execution_count": 35,
   "id": "ac8802b8",
   "metadata": {},
   "outputs": [
    {
     "name": "stdout",
     "output_type": "stream",
     "text": [
      "\n",
      "Logistic Regression\n",
      "Accuracy: 0.90\n",
      "Classification Report:\n",
      "              precision    recall  f1-score   support\n",
      "\n",
      "        High       1.00      0.80      0.89        10\n",
      "         Low       0.91      1.00      0.95        21\n",
      "      Medium       0.82      0.82      0.82        11\n",
      "\n",
      "    accuracy                           0.90        42\n",
      "   macro avg       0.91      0.87      0.89        42\n",
      "weighted avg       0.91      0.90      0.90        42\n",
      "\n",
      "\n",
      "Decision Tree\n",
      "Accuracy: 0.81\n",
      "Classification Report:\n",
      "              precision    recall  f1-score   support\n",
      "\n",
      "        High       0.73      0.80      0.76        10\n",
      "         Low       0.91      0.95      0.93        21\n",
      "      Medium       0.67      0.55      0.60        11\n",
      "\n",
      "    accuracy                           0.81        42\n",
      "   macro avg       0.77      0.77      0.76        42\n",
      "weighted avg       0.80      0.81      0.80        42\n",
      "\n",
      "\n",
      "Random Forest\n",
      "Accuracy: 0.88\n",
      "Classification Report:\n",
      "              precision    recall  f1-score   support\n",
      "\n",
      "        High       1.00      0.80      0.89        10\n",
      "         Low       0.91      0.95      0.93        21\n",
      "      Medium       0.75      0.82      0.78        11\n",
      "\n",
      "    accuracy                           0.88        42\n",
      "   macro avg       0.89      0.86      0.87        42\n",
      "weighted avg       0.89      0.88      0.88        42\n",
      "\n",
      "\n",
      "XGBoost\n",
      "Accuracy: 0.83\n",
      "Classification Report:\n",
      "              precision    recall  f1-score   support\n",
      "\n",
      "        High       0.88      0.70      0.78        10\n",
      "         Low       0.91      0.95      0.93        21\n",
      "      Medium       0.67      0.73      0.70        11\n",
      "\n",
      "    accuracy                           0.83        42\n",
      "   macro avg       0.82      0.79      0.80        42\n",
      "weighted avg       0.84      0.83      0.83        42\n",
      "\n"
     ]
    },
    {
     "name": "stderr",
     "output_type": "stream",
     "text": [
      "C:\\Users\\UNIVERSAL\\anaconda3\\lib\\site-packages\\xgboost\\core.py:158: UserWarning: [22:13:23] WARNING: C:\\buildkite-agent\\builds\\buildkite-windows-cpu-autoscaling-group-i-08cbc0333d8d4aae1-1\\xgboost\\xgboost-ci-windows\\src\\learner.cc:740: \n",
      "Parameters: { \"use_label_encoder\" } are not used.\n",
      "\n",
      "  warnings.warn(smsg, UserWarning)\n"
     ]
    }
   ],
   "source": [
    "\n",
    "# Evaluate each model's accuracy\n",
    "for name, model in models.items():\n",
    "    print(f\"\\n{name}\")\n",
    "    model.fit(X_train_scaled, y_train)\n",
    "    y_pred = model.predict(X_test_scaled)\n",
    "    \n",
    "    # Accuracy\n",
    "    accuracy = accuracy_score(y_test, y_pred)\n",
    "    print(f\"Accuracy: {accuracy:.2f}\")\n",
    "    \n",
    "    # Detailed classification report\n",
    "    print(\"Classification Report:\")\n",
    "    print(classification_report(y_test, y_pred, target_names=label_encoder.classes_))"
   ]
  },
  {
   "cell_type": "code",
   "execution_count": null,
   "id": "69098fa7",
   "metadata": {},
   "outputs": [],
   "source": []
  }
 ],
 "metadata": {
  "kernelspec": {
   "display_name": "Python 3 (ipykernel)",
   "language": "python",
   "name": "python3"
  },
  "language_info": {
   "codemirror_mode": {
    "name": "ipython",
    "version": 3
   },
   "file_extension": ".py",
   "mimetype": "text/x-python",
   "name": "python",
   "nbconvert_exporter": "python",
   "pygments_lexer": "ipython3",
   "version": "3.9.13"
  }
 },
 "nbformat": 4,
 "nbformat_minor": 5
}
